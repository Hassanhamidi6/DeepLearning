{
 "cells": [
  {
   "cell_type": "code",
   "execution_count": null,
   "id": "36a5bd95-e432-49aa-9667-3511ac5311a0",
   "metadata": {},
   "outputs": [],
   "source": []
  }
 ],
 "metadata": {
  "kernelspec": {
   "display_name": "",
   "name": ""
  },
  "language_info": {
   "name": ""
  }
 },
 "nbformat": 4,
 "nbformat_minor": 5
}
