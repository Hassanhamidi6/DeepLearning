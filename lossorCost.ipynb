{
 "cells": [
  {
   "cell_type": "code",
   "execution_count": 25,
   "id": "cd375f4a-8e04-45ce-b99d-6e9811a803d0",
   "metadata": {},
   "outputs": [],
   "source": [
    "import numpy as np"
   ]
  },
  {
   "cell_type": "markdown",
   "id": "4442f8ab-860a-46f6-8d0f-d30a372f5fa4",
   "metadata": {},
   "source": [
    "<h2>Mean Absolute Error (MAE)</h2>"
   ]
  },
  {
   "cell_type": "code",
   "execution_count": 2,
   "id": "43d44568-2de7-4585-97b4-cb214f23c1fb",
   "metadata": {},
   "outputs": [],
   "source": [
    "Y_predicted = np.array([1, 1 ,0, 0, 1])\n",
    "Y_true = np.array([0.30, 0.7, 1, 0, 0.5])"
   ]
  },
  {
   "cell_type": "code",
   "execution_count": 15,
   "id": "fef55671-e9e2-4459-82b3-af51670a2733",
   "metadata": {},
   "outputs": [],
   "source": [
    "def mae(Y_true, Y_predicted):   # This is the long method but we can do all this by just using numpy array \n",
    "    total_error = 0             # which is in the down cell\n",
    "    for yt, yp in zip(Y_true, Y_predicted):\n",
    "        total_error += abs(yt - yp)\n",
    "    print(\"Total_error:\", total_error)\n",
    "    "
   ]
  },
  {
   "cell_type": "code",
   "execution_count": 16,
   "id": "e67bdafd-326e-4a48-8636-4ab07a85b87d",
   "metadata": {},
   "outputs": [
    {
     "name": "stdout",
     "output_type": "stream",
     "text": [
      "Total_error: 2.5\n"
     ]
    }
   ],
   "source": [
    "mae(Y_true, Y_predicted)"
   ]
  },
  {
   "cell_type": "code",
   "execution_count": 23,
   "id": "faebe044-22d1-4fcb-8b04-795754340407",
   "metadata": {},
   "outputs": [
    {
     "data": {
      "text/plain": [
       "np.float64(0.5)"
      ]
     },
     "execution_count": 23,
     "metadata": {},
     "output_type": "execute_result"
    }
   ],
   "source": [
    "np.mean(np.abs(Y_predicted - Y_true))\n",
    "# Here Y_predicted - Y_true will give you the difference /"
   ]
  },
  {
   "cell_type": "code",
   "execution_count": 24,
   "id": "2002c095-35c5-419c-b9c7-fca573702b15",
   "metadata": {},
   "outputs": [
    {
     "data": {
      "text/plain": [
       "np.float64(2.5)"
      ]
     },
     "execution_count": 24,
     "metadata": {},
     "output_type": "execute_result"
    }
   ],
   "source": [
    "np.sum(np.abs(Y_predicted - Y_true))\n",
    "# It will give you the total error"
   ]
  },
  {
   "cell_type": "markdown",
   "id": "4a427377-f758-4750-8c24-b0380b78aaaf",
   "metadata": {},
   "source": [
    "<h2>Log Loss or Binary Cross Entropy</h2>"
   ]
  },
  {
   "cell_type": "code",
   "execution_count": 29,
   "id": "8337cf00-cb00-4f7b-881a-932845ac244c",
   "metadata": {},
   "outputs": [
    {
     "data": {
      "text/plain": [
       "array([-25.32843602])"
      ]
     },
     "execution_count": 29,
     "metadata": {},
     "output_type": "execute_result"
    }
   ],
   "source": [
    "np.log([0.00000000001])"
   ]
  },
  {
   "cell_type": "code",
   "execution_count": 30,
   "id": "e6ed46a9-e34c-4727-9b37-259e7dd72145",
   "metadata": {},
   "outputs": [],
   "source": [
    "epsilon = 1e-15"
   ]
  },
  {
   "cell_type": "code",
   "execution_count": 32,
   "id": "5b5f6005-592d-4628-8e3f-bf4852e52900",
   "metadata": {},
   "outputs": [
    {
     "data": {
      "text/plain": [
       "array([1, 1, 0, 0, 1])"
      ]
     },
     "execution_count": 32,
     "metadata": {},
     "output_type": "execute_result"
    }
   ],
   "source": [
    "Y_predicted"
   ]
  },
  {
   "cell_type": "code",
   "execution_count": 35,
   "id": "d048b1f6-6488-449d-9707-78146d5a22af",
   "metadata": {},
   "outputs": [
    {
     "data": {
      "text/plain": [
       "[np.int64(1), np.int64(1), 1e-15, 1e-15, np.int64(1)]"
      ]
     },
     "execution_count": 35,
     "metadata": {},
     "output_type": "execute_result"
    }
   ],
   "source": [
    "Y_predicted_new= [max(i,epsilon) for i in Y_predicted]\n",
    "Y_predicted_new"
   ]
  },
  {
   "cell_type": "code",
   "execution_count": 36,
   "id": "9c962e9d-a543-4c49-a24f-849051911260",
   "metadata": {},
   "outputs": [
    {
     "data": {
      "text/plain": [
       "[0.999999999999999,\n",
       " 0.999999999999999,\n",
       " np.int64(0),\n",
       " np.int64(0),\n",
       " 0.999999999999999]"
      ]
     },
     "execution_count": 36,
     "metadata": {},
     "output_type": "execute_result"
    }
   ],
   "source": [
    "Y_predicted_new= [min(i,1-epsilon) for i in Y_predicted]\n",
    "Y_predicted_new"
   ]
  },
  {
   "cell_type": "code",
   "execution_count": 37,
   "id": "576d3693-c246-4089-a410-e87c0da9607a",
   "metadata": {},
   "outputs": [
    {
     "name": "stderr",
     "output_type": "stream",
     "text": [
      "C:\\Users\\Hp\\AppData\\Local\\Temp\\ipykernel_5912\\1547211217.py:2: RuntimeWarning: divide by zero encountered in log\n",
      "  np.log(Y_predicted_new)\n"
     ]
    },
    {
     "data": {
      "text/plain": [
       "array([-9.99200722e-16, -9.99200722e-16,            -inf,            -inf,\n",
       "       -9.99200722e-16])"
      ]
     },
     "execution_count": 37,
     "metadata": {},
     "output_type": "execute_result"
    }
   ],
   "source": [
    "Y_predicted_new = np.array(Y_predicted_new)\n",
    "np.log(Y_predicted_new)"
   ]
  },
  {
   "cell_type": "code",
   "execution_count": null,
   "id": "687a5b94-e3b9-4be7-a07f-8baab81d0f74",
   "metadata": {},
   "outputs": [],
   "source": []
  }
 ],
 "metadata": {
  "kernelspec": {
   "display_name": "Python 3 (ipykernel)",
   "language": "python",
   "name": "python3"
  },
  "language_info": {
   "codemirror_mode": {
    "name": "ipython",
    "version": 3
   },
   "file_extension": ".py",
   "mimetype": "text/x-python",
   "name": "python",
   "nbconvert_exporter": "python",
   "pygments_lexer": "ipython3",
   "version": "3.13.1"
  }
 },
 "nbformat": 4,
 "nbformat_minor": 5
}
